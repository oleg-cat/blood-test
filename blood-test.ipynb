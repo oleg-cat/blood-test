{
  "nbformat": 4,
  "nbformat_minor": 5,
  "metadata": {
    "kernelspec": {
      "display_name": "Python 3",
      "language": "python",
      "name": "python3"
    },
    "colab": {
      "name": "blood-test.ipynb",
      "provenance": [],
      "collapsed_sections": []
    }
  },
  "cells": [
    {
      "cell_type": "markdown",
      "metadata": {
        "id": "sealed-blowing"
      },
      "source": [
        "# Blood cells classification\n",
        "This project aims to solve an image classification task with Toloka."
      ],
      "id": "sealed-blowing"
    },
    {
      "cell_type": "markdown",
      "metadata": {
        "id": "secret-argentina"
      },
      "source": [
        "### Challenge\n",
        "\n",
        "We chose the [BCCD Dataset](https://github.com/Shenggan/BCCD_Dataset) for this task. This dataset is under [MIT license](https://github.com/Shenggan/BCCD_Dataset/blob/master/LICENSE).\n",
        "\n",
        "BCCD Dataset is a small-scale dataset for blood cell detection. The cell types are Eosinophil, Lymphocyte, Monocyte, and Neutrophil. There are microscope images for each of four different cell types grouped into four different folders (according to cell type).\n",
        "\n",
        "Check out [this example](https://www.kaggle.com/brsdincer/classify-blood-cell-subtypes-all-process) of a machine learning model for cell classification based on this dataset. \n",
        "\n",
        "We will also implement cell classification on images using Toloka crowdsourcing platform. We are going to use a slightly reworked BCCD [dataset](https://www.kaggle.com/paultimothymooney/blood-cells).\n",
        "\n",
        "\n",
        "### Context\n",
        "The diagnosis of blood-based diseases often involves identifying and characterizing patient's blood samples. Automated methods to detect and classify blood cell types have important medical applications.\n",
        "\n",
        "\n",
        "### Description\n",
        "To solve this task, we will create a project using [Toloka-Kit](https://toloka.github.io/toloka-kit). \n",
        "\n",
        "In this project, we will show an image of a blood cell and a brief instruction for Toloka performers. Then, we will ask performers to choose which type of cell they see on this image:\n",
        "\n",
        "1 - Eosinophil\n",
        "\n",
        "2 - Lymphocyte\n",
        "\n",
        "3 - Monocyte\n",
        "\n",
        "4 - Neutrophil\n",
        "<table  align=\"center\">\n",
        "  <tr><td>\n",
        "    <img src=\"./manual/img/eosinophil_ex2.jpg\"\n",
        "         alt=\"Sample blood cell image\"  width=\"500\">\n",
        "  </td></tr>\n",
        "  <tr><td align=\"center\">\n",
        "    <b>Picture 1.</b> Eosinophil\n",
        "  </td></tr>\n",
        "</table>\n",
        "\n",
        "\n",
        "<table  align=\"center\">\n",
        "  <tr><td>\n",
        "    <img src=\"./manual/manual.png\"\n",
        "         alt=\"Manual\"  width=\"500\">\n",
        "  </td></tr>\n",
        "  <tr><td align=\"center\">\n",
        "    <b>Picture 2.</b> Instruction\n",
        "  </td></tr>\n",
        "</table>\n",
        "\n",
        "This task usually requires special domain knowledge about blood cells, but we can solve it with crowdsourcing.\n",
        "\n",
        "To prepare our performers, we wrote <a href=\"./manual/manual.html\" target=\"_blank\">detailed instructions</a> and implemented the project pipeline: Training → Exam → Main tasks."
      ],
      "id": "secret-argentina"
    },
    {
      "cell_type": "markdown",
      "metadata": {
        "id": "front-sociology"
      },
      "source": [
        "### Set up the environment\n",
        "\n",
        "First, you'll need to register in Toloka as a requester. Learn more about this step in the [documentation](https://yandex.com/support/toloka-requester/concepts/access.html).\n",
        "\n",
        "In our example, we are using the [production](https://toloka.yandex.com) environment of Toloka, but you can also use the [sandbox](https://yandex.com/support/toloka-requester/concepts/sandbox.html).\n",
        "\n",
        "The second step is to obtain your [OAuth token](https://yandex.com/dev/toloka/doc/concepts/access.html#access__token).\n",
        "A detailed description of these actions can be found in the example [learn the basics](https://colab.research.google.com/github/Toloka/toloka-kit/blob/main/examples/0.getting_started/0.learn_the_basics/learn_the_basics.ipynb).\n",
        "\n",
        "The next step is to configure s3 to store images. You can use [Yandex.Cloud](https://cloud.yandex.com) or [Amazon.AWS](https://aws.amazon.com/s3/) for example.\n",
        "You will also need to create an access key:\n",
        "- In [Yandex](https://cloud.yandex.com/docs/iam/operations/sa/create-access-key)\n",
        "- In [Amazon](https://docs.aws.amazon.com/IAM/latest/APIReference/API_CreateAccessKey.html)\n",
        "\n",
        "> **Tip:** In [Yandex.Cloud](https://cloud.yandex.com) make sure your s3 service account is configured with an [admin role](https://cloud.yandex.com/en-ru/docs/iam/operations/sa/assign-role-for-sa), and you have the full rights to access it.\n",
        "\n",
        "Then, register on the **Kaggle** platform and download the dataset:\n",
        "1. Log in or sign up on [Kaggle](https://www.kaggle.com). \n",
        "2. Go to **Account**. \n",
        "3. Click **Create New API Token**. This action will generate a JSON file with your username and the key."
      ],
      "id": "front-sociology"
    },
    {
      "cell_type": "code",
      "metadata": {
        "id": "abstract-envelope"
      },
      "source": [
        "!pip install toloka-kit==0.1.5\n",
        "!pip install crowd-kit==0.0.3\n",
        "!pip install pandas\n",
        "!pip install boto3\n",
        "!pip install ipyplot\n",
        "!pip install kaggle"
      ],
      "id": "abstract-envelope",
      "execution_count": null,
      "outputs": []
    },
    {
      "cell_type": "code",
      "metadata": {
        "id": "swedish-maker"
      },
      "source": [
        "import datetime\n",
        "import os\n",
        "import random\n",
        "import time\n",
        "import uuid\n",
        "from zipfile import ZipFile\n",
        "\n",
        "import boto3\n",
        "import ipyplot\n",
        "import pandas\n",
        "\n",
        "import toloka.client as toloka\n",
        "import toloka.client.project.template_builder as tb\n",
        "from crowdkit.aggregation import MajorityVote, DawidSkene"
      ],
      "id": "swedish-maker",
      "execution_count": null,
      "outputs": []
    },
    {
      "cell_type": "markdown",
      "metadata": {
        "id": "_QYWp9zDPABC"
      },
      "source": [
        "Let's connect to s3 and create a bucket (a logical entity that stores objects). If you configured the bucket manually, just enter the bucket name into the following code:"
      ],
      "id": "_QYWp9zDPABC"
    },
    {
      "cell_type": "code",
      "metadata": {
        "id": "owned-benjamin"
      },
      "source": [
        "key_id='' # Enter your key id\n",
        "access_key=''  # Enter your access key\n",
        "bucket_name = ''  # Enter your bucket name if you have one, or leave it empty\n",
        "s3_url = 'https://storage.yandexcloud.net'\n",
        "\n",
        "session = boto3.session.Session()\n",
        "s3 = session.client(\n",
        "    service_name='s3',\n",
        "    endpoint_url=s3_url,\n",
        "    aws_access_key_id=key_id,\n",
        "    aws_secret_access_key=access_key\n",
        ")\n",
        "\n",
        "if bucket_name == '':\n",
        "    bucket_name = f'blood-crowd-test-{uuid.uuid4().hex}'\n",
        "    response = s3.create_bucket(ACL='public-read', Bucket=bucket_name)\n",
        "    print(response['Location'])"
      ],
      "id": "owned-benjamin",
      "execution_count": null,
      "outputs": []
    },
    {
      "cell_type": "markdown",
      "metadata": {
        "id": "hLkp22B7PABD"
      },
      "source": [
        "Let's set up a connection to Toloka [production]((https://toloka.yandex.com) or [sandbox](https://sandbox.toloka.yandex.com) environment."
      ],
      "id": "hLkp22B7PABD"
    },
    {
      "cell_type": "code",
      "metadata": {
        "id": "BPP9ay5FPABD"
      },
      "source": [
        "token = ''  # Enter your production or sandbox OAuth-token\n",
        "\n",
        "toloka_client = toloka.TolokaClient(token, 'PRODUCTION') # Or switch to 'SANDBOX' instance\n",
        "requester = toloka_client.get_requester()\n",
        "print(requester)"
      ],
      "id": "BPP9ay5FPABD",
      "execution_count": null,
      "outputs": []
    },
    {
      "cell_type": "markdown",
      "metadata": {
        "id": "xygMjRjQPABE"
      },
      "source": [
        "Let's download the dataset using the **Kaggle API** and unpack it."
      ],
      "id": "xygMjRjQPABE"
    },
    {
      "cell_type": "code",
      "metadata": {
        "id": "Gb3ZctPSPABE"
      },
      "source": [
        "os.environ['KAGGLE_USERNAME'] = ''  # \"username\" from kaggle.json\n",
        "os.environ['KAGGLE_KEY'] = ''  # \"key\" from kaggle.json\n",
        "!kaggle datasets download -d paultimothymooney/blood-cells\n",
        "with ZipFile('blood-cells.zip', 'r') as archive:\n",
        "    archive.extractall('archive')"
      ],
      "id": "Gb3ZctPSPABE",
      "execution_count": null,
      "outputs": []
    },
    {
      "cell_type": "markdown",
      "metadata": {
        "id": "RnaMuKsyPABE"
      },
      "source": [
        "Let's prepare the basic settings: \n",
        "- Where data is located.\n",
        "- A list of possible cell types.\n",
        "- How many pictures we want to annotate."
      ],
      "id": "RnaMuKsyPABE"
    },
    {
      "cell_type": "code",
      "metadata": {
        "id": "emmiXklNPABE"
      },
      "source": [
        "data_dir = './archive/dataset-master/dataset-master/JPEGImages/'\n",
        "test_dir = './archive/dataset2-master/dataset2-master/images/TEST_SIMPLE/'\n",
        "\n",
        "typecells = ['EOSINOPHIL', 'LYMPHOCYTE', 'MONOCYTE', 'NEUTROPHIL']\n",
        "tests_count = 4 # The number of control tasks: 4*typecells = 16\n",
        "tasks_count = None # The number of tasks we want to annotate. If None is specified, we annotate everything"
      ],
      "id": "emmiXklNPABE",
      "execution_count": null,
      "outputs": []
    },
    {
      "cell_type": "markdown",
      "metadata": {
        "id": "_1UHJ_EWPABF"
      },
      "source": [
        "Let's prepare the UI text descriptions for all fields that we need."
      ],
      "id": "_1UHJ_EWPABF"
    },
    {
      "cell_type": "code",
      "metadata": {
        "id": "recorded-corpus"
      },
      "source": [
        "# Toloka text setting\n",
        "project_name = '🔬Blood cell type detection'\n",
        "project_description = 'Look at the picture and determine which type of blood cell is presented.'\n",
        "project_label = 'Which blood cell is presented on the photo?'\n",
        "project_namecells = ['1 - EOSINOPHIL', '2 - LYMPHOCYTE', '3 - MONOCYTE', '4 - NEUTROPHIL']\n",
        "\n",
        "exam_skill_name = f'{project_name} (Exam)'\n",
        "exam_skill_description = f'How performer passed the exam on the project {project_name}'\n",
        "quality_skill_name = f'{project_name} (Quality)'\n",
        "quality_skill_description = f'How performer completed the tasks on the project {project_name}'\n",
        "\n",
        "train_pool_name = 'Training'\n",
        "exam_pool_name = 'Exam'\n",
        "exam_public_description = 'Take the exam first to gain access to the paid tasks.'"
      ],
      "id": "recorded-corpus",
      "execution_count": null,
      "outputs": []
    },
    {
      "cell_type": "markdown",
      "metadata": {
        "id": "okTBpVNfPABF"
      },
      "source": [
        "Let's prepare some tips. We will use them to teach the performer how to identify cell types."
      ],
      "id": "okTBpVNfPABF"
    },
    {
      "cell_type": "code",
      "metadata": {
        "id": "alien-hearing"
      },
      "source": [
        "hint_dict = {\n",
        "    'EOSINOPHIL': '1 - Eosinophil. The cell nucleus is divided into two parts by a pinch in the middle. Red and orange dots are visible in the pink layer.', \n",
        "    'LYMPHOCYTE': '2 – Lymphocyte. Large cell nucleus and no grain. Small in size.',\n",
        "    'MONOCYTE': '3 – Monocyte. The cell nucleus is not divided into fragments. It is also dark, slightly elongated, and looks like a bean. Quite large in size.', \n",
        "    'NEUTROPHIL': '4 – Neutrophil. The cell nucleus is divided into several (2-4) unequal parts connected by pinches. Granularity is well expressed within the pink layer.',\n",
        "}"
      ],
      "id": "alien-hearing",
      "execution_count": null,
      "outputs": []
    },
    {
      "cell_type": "markdown",
      "metadata": {
        "id": "streaming-bowling"
      },
      "source": [
        "### Prepare the instructions\n",
        "\n",
        ">**Note:** We strongly recommend checking the task interface and instructions every time you create a project. With an intuitive interface and clear instructions, performers will complete the task correctly, and you will get useful results."
      ],
      "id": "streaming-bowling"
    },
    {
      "cell_type": "code",
      "metadata": {
        "id": "interior-camcorder"
      },
      "source": [
        "public_instruction = open('manual/manual.html').read().strip()\n",
        "\n",
        "for image in os.listdir('manual/img/'):\n",
        "    s3.upload_file(f'manual/img/{image}', bucket_name, f'manual/img/{image}')\n",
        "\n",
        "public_instruction = public_instruction.replace('./img/', f'{s3_url}/{bucket_name}/manual/img/')\n",
        "\n",
        "s3.upload_file('manual/manual.png', bucket_name, 'manual/manual.png')\n",
        "manualpng = f'{s3_url}/{bucket_name}/manual/manual.png'"
      ],
      "id": "interior-camcorder",
      "execution_count": null,
      "outputs": []
    },
    {
      "cell_type": "code",
      "metadata": {
        "id": "oNUCbZ6GFq--"
      },
      "source": [
        "public_instruction = open('manual/manual.html').read().strip()\n",
        "public_instruction = public_instruction.replace('./img/', f'{s3_url}/{bucket_name}/manual/img/')\n",
        "\n",
        "manualpng = f'{s3_url}/{bucket_name}/manual/manual.png'"
      ],
      "id": "oNUCbZ6GFq--",
      "execution_count": null,
      "outputs": []
    },
    {
      "cell_type": "markdown",
      "metadata": {
        "id": "conventional-paint"
      },
      "source": [
        "### Create a project\n",
        "\n",
        "At this step we need to: \n",
        "- Configure how performers will see the task.\n",
        "- Upload instructions.\n",
        "- Define the format of input and output data.\n",
        "\n",
        "Learn more about [projects](https://yandex.com/support/toloka-requester/concepts/project.html) in Toloka."
      ],
      "id": "conventional-paint"
    },
    {
      "cell_type": "code",
      "metadata": {
        "id": "affecting-casting"
      },
      "source": [
        "# How performers will see the task\n",
        "radio_group_field = tb.fields.RadioGroupFieldV1(\n",
        "    data=tb.data.OutputData(path='result'),\n",
        "    label=project_label,\n",
        "    validation=tb.conditions.RequiredConditionV1(),\n",
        "    options=[\n",
        "        tb.fields.GroupFieldOption(label=cell_name, value=cell_type)\n",
        "        for cell_name, cell_type in zip(project_namecells, typecells)        \n",
        "    ]\n",
        ")\n",
        "\n",
        "project_interface = toloka.project.view_spec.TemplateBuilderViewSpec(\n",
        "    config=tb.TemplateBuilder(\n",
        "        view=tb.view.ListViewV1(\n",
        "            items=[\n",
        "                tb.view.ImageViewV1(url=tb.data.InputData(path='image'), max_width=500),\n",
        "                tb.view.ImageViewV1(url=manualpng, max_width=500),\n",
        "                radio_group_field,\n",
        "            ]\n",
        "        ),\n",
        "        plugins=[\n",
        "            tb.plugins.HotkeysPluginV1(\n",
        "                **{\n",
        "                    f'key_{i+1}': tb.actions.SetActionV1(data=tb.data.OutputData(path='result'),payload=cell_type)\n",
        "                    for i, cell_type in enumerate(typecells)\n",
        "                }\n",
        "            ),\n",
        "            tb.plugins.TolokaPluginV1(\n",
        "                layout = tb.plugins.TolokaPluginV1.TolokaPluginLayout(\n",
        "                    kind='scroll', \n",
        "                    task_width=500,\n",
        "                )\n",
        "            ),\n",
        "        ]\n",
        "    )\n",
        ")\n",
        "\n",
        "# Set up the project\n",
        "markup_project = toloka.project.Project(\n",
        "    assignments_issuing_type=toloka.project.Project.AssignmentsIssuingType.AUTOMATED,\n",
        "    public_name=project_name,\n",
        "    public_description=project_description,\n",
        "    public_instructions=public_instruction,\n",
        "    # Set up the task: view, input, and output parameters\n",
        "    task_spec=toloka.project.task_spec.TaskSpec(\n",
        "        input_spec={\n",
        "            'image': toloka.project.field_spec.StringSpec()\n",
        "        },\n",
        "        output_spec={\n",
        "            'result': toloka.project.field_spec.StringSpec(allowed_values=typecells)\n",
        "        },\n",
        "        view_spec=project_interface,\n",
        "    ),\n",
        ")\n",
        "\n",
        "# Call the API to create a new project\n",
        "markup_project = toloka_client.create_project(markup_project)\n",
        "print(f'Created markup project with id {markup_project.id}')\n",
        "print(f'To view the project, go to https://toloka.yandex.com/requester/project/{markup_project.id}')\n",
        "# For Sandbox environment use:\n",
        "# print(f'To view the project, go to https://sandbox.toloka.yandex.com/requester/project/{markup_project.id}')"
      ],
      "id": "affecting-casting",
      "execution_count": null,
      "outputs": []
    },
    {
      "cell_type": "markdown",
      "metadata": {
        "id": "engaged-voltage"
      },
      "source": [
        "### Set up skills for performers\n",
        "[Skill](https://yandex.com/support/toloka-requester/concepts/nav.html) can be any characteristic of the performer. It is described by a number from 0 to 100. For example, you can record the percentage of correct responses in a skill.\n",
        "\n",
        "We will use two skills in our project:\n",
        "- **Quality skill** shows how well the performer completed training tasks.\n",
        "\n",
        "- **Exam skill** shows how well the performer passed the exam tasks.\n"
      ],
      "id": "engaged-voltage"
    },
    {
      "cell_type": "code",
      "metadata": {
        "id": "derived-providence"
      },
      "source": [
        "exam_skill = next(toloka_client.get_skills(name=exam_skill_name), None)\n",
        "if exam_skill:\n",
        "    print('Exam skill already exists')\n",
        "else:\n",
        "    print('Create new exam skill')\n",
        "    exam_skill = toloka_client.create_skill(\n",
        "        name=exam_skill_name,\n",
        "        hidden=True,\n",
        "        private_comment=exam_skill_description,\n",
        "    )\n",
        "\n",
        "quality_skill = next(toloka_client.get_skills(name=quality_skill_name), None)\n",
        "if quality_skill:\n",
        "    print('Quality skill already exists')\n",
        "else:\n",
        "    print('Create new quality skill')\n",
        "    quality_skill = toloka_client.create_skill(\n",
        "        name=quality_skill_name,\n",
        "        hidden=True,\n",
        "        private_comment=quality_skill_description,\n",
        "    )"
      ],
      "id": "derived-providence",
      "execution_count": null,
      "outputs": []
    },
    {
      "cell_type": "markdown",
      "metadata": {
        "id": "fifty-survivor"
      },
      "source": [
        "### Add a training\n",
        "With [training pools](https://yandex.com/support/toloka-requester/concepts/train.html), performers can practice before getting started. While completing training, performers will see a hint if they answered incorrectly. \n",
        "\n",
        "You can also provide access to the main task pool only to those performers who passed the training.\n",
        "\n",
        "Let's create a training pool:"
      ],
      "id": "fifty-survivor"
    },
    {
      "cell_type": "code",
      "metadata": {
        "id": "resistant-celebration"
      },
      "source": [
        "train_pool = toloka.training.Training(\n",
        "    project_id=markup_project.id,\n",
        "    private_name=train_pool_name,\n",
        "    may_contain_adult_content=False,\n",
        "    assignment_max_duration_seconds=60*20,\n",
        "    mix_tasks_in_creation_order=False,\n",
        "    shuffle_tasks_in_task_suite=True,\n",
        "    training_tasks_in_task_suite_count=15,\n",
        "    task_suites_required_to_pass=7,\n",
        "    retry_training_after_days=1,\n",
        ")\n",
        "\n",
        "train_pool = toloka_client.create_training(train_pool)\n",
        "print(f'Created \"{train_pool.private_name}\" training with id {train_pool.id}')"
      ],
      "id": "resistant-celebration",
      "execution_count": null,
      "outputs": []
    },
    {
      "cell_type": "markdown",
      "metadata": {
        "id": "worth-filling"
      },
      "source": [
        "Let's now add tasks to the training. Don't forget to define the hints."
      ],
      "id": "worth-filling"
    },
    {
      "cell_type": "code",
      "metadata": {
        "id": "qS5UccMLPABJ"
      },
      "source": [
        "training_tasks = []\n",
        "\n",
        "for cell_type in typecells:\n",
        "    dir_path = f'{test_dir}/{cell_type}/'\n",
        "    test_images_list = os.listdir(dir_path)\n",
        "    random.shuffle(test_images_list)\n",
        "    count = tests_count if len(test_images_list) > tests_count else len(test_images_list)\n",
        "    for image in test_images_list[:count]:\n",
        "        s3.upload_file(f'{dir_path}{image}', bucket_name, f'train/{image}')\n",
        "        training_tasks.append(\n",
        "            toloka.task.Task(\n",
        "                input_values={'image': f'{s3_url}/{bucket_name}/train/{image}'},\n",
        "                known_solutions = [toloka.task.BaseTask.KnownSolution(output_values={'result': cell_type})],\n",
        "                message_on_unknown_solution = hint_dict[cell_type],\n",
        "                pool_id=train_pool.id,\n",
        "                infinite_overlap=True,\n",
        "            )\n",
        "        )\n",
        "created_training_tasks = toloka_client.create_tasks(training_tasks, toloka.task.CreateTasksParameters(allow_defaults=True))\n",
        "print(f'{len(created_training_tasks.items)} tasks added to the pool {train_pool.id}')"
      ],
      "id": "qS5UccMLPABJ",
      "execution_count": null,
      "outputs": []
    },
    {
      "cell_type": "markdown",
      "metadata": {
        "id": "knowing-above"
      },
      "source": [
        "### Create an exam\n",
        "Performers, who scored at least 50% correct answers in training, are allowed to do the exam. In the exam, performers complete control tasks. And as a result, they receive access to main (paid) tasks."
      ],
      "id": "knowing-above"
    },
    {
      "cell_type": "code",
      "metadata": {
        "id": "daily-bubble"
      },
      "source": [
        "from toloka.client.collectors import AssignmentSubmitTime, GoldenSet\n",
        "from toloka.client.actions import RestrictionV2, SetSkillFromOutputField\n",
        "from toloka.client.conditions import (\n",
        "    FastSubmittedCount,\n",
        "    GoldenSetCorrectAnswersRate,\n",
        "    RuleConditionKey,\n",
        "    TotalAnswersCount,\n",
        ")\n",
        "\n",
        "exam_pool = toloka.pool.Pool(\n",
        "    project_id=markup_project.id,\n",
        "    private_name=exam_pool_name,\n",
        "    public_description=exam_public_description,\n",
        "    may_contain_adult_content=False,\n",
        "    type='EXAM',\n",
        "    will_expire=datetime.datetime.utcnow() + datetime.timedelta(days=365),\n",
        "    reward_per_assignment=0.00,\n",
        "    auto_accept_solutions=True,\n",
        "    assignment_max_duration_seconds=60*10,\n",
        "    defaults=toloka.pool.Pool.Defaults(\n",
        "         default_overlap_for_new_task_suites=99,\n",
        "         default_overlap_for_new_tasks=None,\n",
        "    ),\n",
        ")\n",
        "\n",
        "# Set the number of tasks per page\n",
        "exam_pool.set_mixer_config(\n",
        "    real_tasks_count=0, \n",
        "    golden_tasks_count=15,\n",
        "    training_tasks_count=0,\n",
        "    min_golden_tasks_count=15,\n",
        "    mix_tasks_in_creation_order=False,\n",
        "    shuffle_tasks_in_task_suite=True,\n",
        ")\n",
        "\n",
        "exam_pool.filter = (\n",
        "    toloka.filter.FilterOr([toloka.filter.Languages.in_('EN')]) &\n",
        "    toloka.filter.FilterOr([\n",
        "        toloka.filter.ClientType == 'BROWSER',\n",
        "        toloka.filter.ClientType == 'TOLOKA_APP'\n",
        "    ])\n",
        ")\n",
        "\n",
        "exam_pool.set_training_requirement(\n",
        "    training_pool_id=train_pool.id,\n",
        "    training_passing_skill_value=50\n",
        ")\n",
        "\n",
        "exam_pool.quality_control.add_action(\n",
        "    collector=AssignmentSubmitTime(fast_submit_threshold_seconds=7),\n",
        "    conditions=[FastSubmittedCount > 0],\n",
        "    action=RestrictionV2(\n",
        "        scope='PROJECT',\n",
        "        duration_unit='PERMANENT',\n",
        "        private_comment='Fast responses'\n",
        "    )\n",
        ")\n",
        "\n",
        "exam_pool.quality_control.add_action(\n",
        "    collector=GoldenSet(history_size=15),\n",
        "    conditions=[TotalAnswersCount >= 14],\n",
        "    action=SetSkillFromOutputField(\n",
        "        skill_id=exam_skill.id,\n",
        "        from_field=RuleConditionKey('correct_answers_rate')\n",
        "    )\n",
        ")\n",
        "\n",
        "exam_pool = toloka_client.create_pool(exam_pool)\n",
        "print(f'Created \"{exam_pool.private_name}\" pool with id {exam_pool.id}')"
      ],
      "id": "daily-bubble",
      "execution_count": null,
      "outputs": []
    },
    {
      "cell_type": "markdown",
      "metadata": {
        "id": "incorporate-census"
      },
      "source": [
        "Let's now add tasks to the exam."
      ],
      "id": "incorporate-census"
    },
    {
      "cell_type": "code",
      "metadata": {
        "id": "structured-majority"
      },
      "source": [
        "exam_tasks = []\n",
        "\n",
        "for cell_type in typecells:\n",
        "    dir_path = f'{test_dir}/{cell_type}/'\n",
        "    test_images_list = os.listdir(dir_path)\n",
        "    random.shuffle(test_images_list)\n",
        "    count = tests_count if len(test_images_list) > tests_count else len(test_images_list)\n",
        "    for image in test_images_list[:count]:\n",
        "        s3.upload_file(f'{dir_path}{image}', bucket_name, f'exam/{image}')\n",
        "        exam_tasks.append(\n",
        "            toloka.task.Task(\n",
        "                input_values={'image': f'{s3_url}/{bucket_name}/exam/{image}'},\n",
        "                known_solutions = [\n",
        "                    toloka.task.BaseTask.KnownSolution(output_values={'result': cell_type})\n",
        "                ],\n",
        "                pool_id=exam_pool.id,\n",
        "                infinite_overlap=True,\n",
        "            )\n",
        "        )\n",
        "\n",
        "created_exam_tasks = toloka_client.create_tasks(exam_tasks)\n",
        "print(f'{len(created_exam_tasks.items)} tasks added to the pool {exam_pool.id}')"
      ],
      "id": "structured-majority",
      "execution_count": null,
      "outputs": []
    },
    {
      "cell_type": "markdown",
      "metadata": {
        "id": "prescription-central"
      },
      "source": [
        "### Create a pool with main tasks\n",
        "Trusted performers (who successfully completed training and exam) will annotate the real data in the main [pool](https://yandex.com/support/toloka-requester/concepts/pool-main.html)."
      ],
      "id": "prescription-central"
    },
    {
      "cell_type": "code",
      "metadata": {
        "id": "retired-grant"
      },
      "source": [
        "blood_pool = toloka.pool.Pool(\n",
        "    project_id=markup_project.id,\n",
        "    private_name=project_name+' - test for adding tasks',\n",
        "    may_contain_adult_content=False,\n",
        "    will_expire=datetime.datetime.utcnow() + datetime.timedelta(days=365),\n",
        "    reward_per_assignment=0.01,\n",
        "    auto_accept_solutions=True,\n",
        "    assignment_max_duration_seconds=60*20,\n",
        "    defaults=toloka.pool.Pool.Defaults(\n",
        "         default_overlap_for_new_task_suites=1,\n",
        "         default_overlap_for_new_tasks=10,\n",
        "    ),\n",
        ")\n",
        "\n",
        "# Set the number of tasks per page\n",
        "blood_pool.set_mixer_config(\n",
        "    real_tasks_count=8, \n",
        "    golden_tasks_count=2,\n",
        "    training_tasks_count=0,\n",
        "    min_real_tasks_count=1,\n",
        "    min_golden_tasks_count=2\n",
        ")\n",
        "\n",
        "blood_pool.filter = (\n",
        "    toloka.filter.FilterOr([toloka.filter.Languages.in_('EN')]) &\n",
        "    toloka.filter.FilterOr([toloka.filter.Skill(exam_skill.id) >= 80]) &\n",
        "    toloka.filter.FilterOr([\n",
        "        toloka.filter.ClientType == 'BROWSER',\n",
        "        toloka.filter.ClientType == 'TOLOKA_APP'\n",
        "    ]) &\n",
        "    toloka.filter.FilterOr([\n",
        "        toloka.filter.Skill(quality_skill.id) >= 80,\n",
        "        toloka.filter.Skill(quality_skill.id) == None\n",
        "    ])\n",
        ")\n",
        "\n",
        "blood_pool.quality_control.add_action(\n",
        "    collector=AssignmentSubmitTime(fast_submit_threshold_seconds=10),\n",
        "    conditions=[FastSubmittedCount > 0],\n",
        "    action=RestrictionV2(\n",
        "        scope='PROJECT',\n",
        "        duration_unit='PERMANENT',\n",
        "        private_comment='Fast responses'\n",
        "    )\n",
        ")\n",
        "\n",
        "blood_pool.quality_control.add_action(\n",
        "    collector=GoldenSet(history_size=100),\n",
        "    conditions=[GoldenSetCorrectAnswersRate < 80],\n",
        "    action=RestrictionV2(\n",
        "        scope='PROJECT',\n",
        "        duration_unit='PERMANENT',\n",
        "        private_comment='Wrong honeypot'\n",
        "    )\n",
        ")\n",
        "\n",
        "blood_pool.quality_control.add_action(\n",
        "    collector=GoldenSet(history_size=100),\n",
        "    conditions=[TotalAnswersCount >= 3],\n",
        "    action=SetSkillFromOutputField(\n",
        "        skill_id=quality_skill.id,\n",
        "        from_field=RuleConditionKey('correct_answers_rate')\n",
        "    )\n",
        ")\n",
        "\n",
        "blood_pool = toloka_client.create_pool(blood_pool)\n",
        "print(f'Created \"{blood_pool.private_name}\" pool with id {blood_pool.id}')"
      ],
      "id": "retired-grant",
      "execution_count": null,
      "outputs": []
    },
    {
      "cell_type": "markdown",
      "metadata": {
        "id": "undefined-sodium"
      },
      "source": [
        "Let's add tasks to the main pool.\n",
        "\n",
        "> **Note:** There are some corner cases in this dataset: when the image shows several cells or no cells at all. When doing your annotations, such cases must be kept in mind and handled separately. We'll drop them from the input for the sake of simplicity. \n",
        "\n",
        "Let's  prepare a ground truth `pandas.DataFrame`. We will compare the final annotations with ground truths later on."
      ],
      "id": "undefined-sodium"
    },
    {
      "cell_type": "code",
      "metadata": {
        "id": "4n23L1ajPABM"
      },
      "source": [
        "# Upload ground truth annotations\n",
        "ground_truth_df = pandas.read_csv('archive/dataset-master/dataset-master/labels.csv', sep=',')\n",
        "ground_truth_df = ground_truth_df[['Image', 'Category']]\n",
        "ground_truth_df = ground_truth_df.rename(columns = {'Image':'task','Category':'ground_truth'})\n",
        "\n",
        "prefix = f'{s3_url}/{bucket_name}/task/BloodImage_'\n",
        "ground_truth_df['task'] = ground_truth_df['task'].apply(lambda x: f'{prefix}{str(x).zfill(5)}.jpg')\n",
        "\n",
        "ground_truth_df.set_index('task', inplace=True)\n",
        "print(ground_truth_df)"
      ],
      "id": "4n23L1ajPABM",
      "execution_count": null,
      "outputs": []
    },
    {
      "cell_type": "code",
      "metadata": {
        "id": "mrGQKKbNPABN"
      },
      "source": [
        "real_tasks = []\n",
        "\n",
        "# Add golden tasks with known solutions\n",
        "for cell_type in typecells:\n",
        "    dir_path = f'{test_dir}/{cell_type}/'\n",
        "    test_images_list = os.listdir(dir_path)\n",
        "    for image in test_images_list:\n",
        "        s3.upload_file(f'{dir_path}{image}', bucket_name, f'golden_task/{image}')\n",
        "        real_tasks.append(\n",
        "            toloka.task.Task(\n",
        "                input_values={'image': f'{s3_url}/{bucket_name}/golden_task/{image}'},\n",
        "                known_solutions = [toloka.task.BaseTask.KnownSolution(output_values={'result': cell_type})],\n",
        "                pool_id=blood_pool.id,\n",
        "                infinite_overlap=True,\n",
        "            )\n",
        "        )\n",
        "\n",
        "# Add main tasks\n",
        "images_list = os.listdir(f'{data_dir}')\n",
        "count = len(images_list) if tasks_count is None or tasks_count > len(images_list) else tasks_count\n",
        "for image in images_list[:count]:\n",
        "    image_url = f'{s3_url}/{bucket_name}/task/{image}'\n",
        "    if image_url not in ground_truth_df.index or ground_truth_df.loc[image_url, :]['ground_truth'] not in typecells:\n",
        "        break\n",
        "\n",
        "    s3.upload_file(f'{data_dir}{image}', bucket_name, f'task/{image}')\n",
        "    real_tasks.append(\n",
        "        toloka.task.Task(\n",
        "            input_values={'image': image_url},\n",
        "            pool_id=blood_pool.id,\n",
        "        )\n",
        "    )\n",
        "created_tasks = toloka_client.create_tasks(real_tasks, toloka.task.CreateTasksParameters(allow_defaults=True))\n",
        "print(f'{len(created_tasks.items)} tasks added to the pool {blood_pool.id}')"
      ],
      "id": "mrGQKKbNPABN",
      "execution_count": null,
      "outputs": []
    },
    {
      "cell_type": "markdown",
      "metadata": {
        "id": "divided-repository"
      },
      "source": [
        "### Run the pools\n",
        "We will do the following:\n",
        "1. Run training, exam, and the main pool.\n",
        "2. Wait for the main pool to complete.\n",
        "3. Stop all the other pools in a project.\n",
        "4. Get the results."
      ],
      "id": "divided-repository"
    },
    {
      "cell_type": "code",
      "metadata": {
        "id": "american-suicide"
      },
      "source": [
        "def wait_pool_for_close(pool, timeout_minutes=5):\n",
        "    sleep_time = 60*timeout_minutes\n",
        "    pool = toloka_client.get_pool(pool.id)\n",
        "    while not pool.is_closed():\n",
        "        print(\n",
        "            f'{datetime.datetime.now().strftime(\"%H:%M:%S\")} '\n",
        "            f'Pool {pool.id} has status {pool.status}.'\n",
        "        )\n",
        "        time.sleep(sleep_time)\n",
        "        pool = toloka_client.get_pool(pool.id)\n",
        "\n",
        "toloka_client.open_pool(train_pool.id)\n",
        "toloka_client.open_pool(exam_pool.id)\n",
        "toloka_client.open_pool(blood_pool.id)\n",
        "\n",
        "# Wait for the pools to close\n",
        "print('\\nWaiting for the main pool to close')\n",
        "wait_pool_for_close(blood_pool)\n",
        "print(f'Pool \"{blood_pool.private_name}\" is finally closed!')\n",
        "\n",
        "toloka_client.close_pool(train_pool.id)\n",
        "print(f'Pool \"{train_pool.private_name}\" is closed!')\n",
        "\n",
        "toloka_client.close_pool(exam_pool.id)\n",
        "print(f'Pool \"{exam_pool.private_name}\" is closed!')"
      ],
      "id": "american-suicide",
      "execution_count": null,
      "outputs": []
    },
    {
      "cell_type": "markdown",
      "metadata": {
        "id": "electronic-strategy"
      },
      "source": [
        "### Get the results\n",
        "\n",
        "We will collect the results in `pandas.DataFrame`, and then simply print it."
      ],
      "id": "electronic-strategy"
    },
    {
      "cell_type": "code",
      "metadata": {
        "id": "hundred-vintage"
      },
      "source": [
        "answers_df = toloka_client.get_assignments_df(blood_pool.id)\n",
        "\n",
        "answers_df = answers_df[answers_df['GOLDEN:result'].isnull()].copy()\n",
        "answers_df = answers_df[['INPUT:image','OUTPUT:result','ASSIGNMENT:worker_id']]\n",
        "answers_df = answers_df.rename(columns = {'INPUT:image':'task','OUTPUT:result':'label','ASSIGNMENT:worker_id':'performer'})\n",
        "\n",
        "# Dawid Skene aggregation type\n",
        "ds_labels = DawidSkene(n_iter=20).fit_predict(answers_df)\n",
        "result = pandas.concat([result, ds_labels], axis=1).rename(columns = {0:'ds_label'})\n",
        "\n",
        "result = result.drop(result[result.ds_label.isnull()].index)\n",
        "print(result)"
      ],
      "id": "hundred-vintage",
      "execution_count": null,
      "outputs": []
    },
    {
      "cell_type": "markdown",
      "metadata": {
        "id": "dm-QhGlPXKks"
      },
      "source": [
        "### Summary\n",
        "\n",
        "This project shows how to perform image classification using the crowd force of Toloka performers. For more examples, visit our [Toloka-Kit usage examples](https://github.com/Toloka/toloka-kit/tree/main/examples) page."
      ],
      "id": "dm-QhGlPXKks"
    }
  ]
}